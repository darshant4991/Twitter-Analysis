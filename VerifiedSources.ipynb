{
  "nbformat": 4,
  "nbformat_minor": 0,
  "metadata": {
    "colab": {
      "name": "VerifiedSources.ipynb",
      "provenance": []
    },
    "kernelspec": {
      "name": "python3",
      "display_name": "Python 3"
    },
    "language_info": {
      "name": "python"
    }
  },
  "cells": [
    {
      "cell_type": "code",
      "source": [
        "import os\n",
        "import tweepy as tw\n",
        "import pandas as pd\n",
        "tw_key = 'ZMWOLani1'\n",
        "tw_secret = 'CrJ061eydj'\n",
        "tw_access_token = '149'\n",
        "tw_access_token_secret = '97mH7'\n",
        "auth = tw.OAuthHandler(tw_key, tw_secret)\n",
        "auth.set_access_token(tw_access_token, tw_access_token_secret)\n",
        "api = tw.API(auth, wait_on_rate_limit=True)\n",
        "search_words = \"Ministry of Truth\""
      ],
      "metadata": {
        "id": "cKILjGLUpTWh"
      },
      "execution_count": 1,
      "outputs": []
    },
    {
      "cell_type": "code",
      "source": [
        "tweets = tw.Cursor(api.search, q=search_words, lang=\"en\").items(1000)\n",
        "MOTTweets = [[tweet.id,tweet.user.screen_name, tweet.user.verified, tweet.text, tweet.place, tweet.user.location, tweet.source,tweet.created_at,tweet.retweet_count,tweet.favorite_count] \n",
        "             for tweet in tweets]\n",
        "MOTTweetsdf = pd.DataFrame(data=MOTTweets, columns=['id','user',\"verified\",\"text\",\"source\",\"place\",\"TweetSource\",\"created_at\",\"retweetCount\",\"Likes\"])"
      ],
      "metadata": {
        "id": "UnwuJwjZpaA0"
      },
      "execution_count": 2,
      "outputs": []
    },
    {
      "cell_type": "code",
      "execution_count": 5,
      "metadata": {
        "colab": {
          "base_uri": "https://localhost:8080/",
          "height": 321
        },
        "id": "KoBieXGopSwI",
        "outputId": "582db3a0-a8cb-4133-c729-a8dbac7c2312"
      },
      "outputs": [
        {
          "output_type": "stream",
          "name": "stdout",
          "text": [
            "   Sources  counts\n",
            "0    False     991\n",
            "1     True       9\n"
          ]
        },
        {
          "output_type": "execute_result",
          "data": {
            "text/plain": [
              "<matplotlib.axes._subplots.AxesSubplot at 0x7fbf625bea10>"
            ]
          },
          "metadata": {},
          "execution_count": 5
        },
        {
          "output_type": "display_data",
          "data": {
            "text/plain": [
              "<Figure size 432x288 with 1 Axes>"
            ],
            "image/png": "[encoded data removed]"
          },
          "metadata": {}
        }
      ],
      "source": [
        "MOTdf_counts_verified = MOTTweetsdf['verified'].value_counts(dropna=True,sort=True)\n",
        "MOTdf_value_counts_verified = MOTdf_counts_verified.reset_index()\n",
        "MOTdf_value_counts_verified.columns = ['Sources', 'counts'] # change column names\n",
        "MOTdf_value_counts_verified.drop(MOTdf_value_counts_verified[MOTdf_value_counts_verified['Sources'] == \"verified\"].index, inplace = True)\n",
        "print(MOTdf_value_counts_verified)\n",
        "MOTdf_value_counts_verified.groupby(['Sources']).sum().plot(kind='pie', y='counts', autopct='%1.0f%%', startangle=60)"
      ]
    }
  ]
}