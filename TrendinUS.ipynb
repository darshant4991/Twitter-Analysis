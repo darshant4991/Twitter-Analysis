{
  "nbformat": 4,
  "nbformat_minor": 0,
  "metadata": {
    "colab": {
      "name": "TrendinUS.ipynb",
      "provenance": []
    },
    "kernelspec": {
      "name": "python3",
      "display_name": "Python 3"
    },
    "language_info": {
      "name": "python"
    }
  },
  "cells": [
    {
      "cell_type": "code",
      "execution_count": 2,
      "metadata": {
        "colab": {
          "base_uri": "https://localhost:8080/"
        },
        "id": "drZGaBTobHEn",
        "outputId": "bba04246-5c64-4f3d-fcc2-5ebec993ed87"
      },
      "outputs": [
        {
          "output_type": "stream",
          "name": "stdout",
          "text": [
            "Looking in indexes: https://pypi.org/simple, https://us-python.pkg.dev/colab-wheels/public/simple/\n",
            "Requirement already satisfied: seaborn in /usr/local/lib/python3.7/dist-packages (0.11.2)\n",
            "Requirement already satisfied: scipy>=1.0 in /usr/local/lib/python3.7/dist-packages (from seaborn) (1.4.1)\n",
            "Requirement already satisfied: matplotlib>=2.2 in /usr/local/lib/python3.7/dist-packages (from seaborn) (3.2.2)\n",
            "Requirement already satisfied: pandas>=0.23 in /usr/local/lib/python3.7/dist-packages (from seaborn) (1.3.5)\n",
            "Requirement already satisfied: numpy>=1.15 in /usr/local/lib/python3.7/dist-packages (from seaborn) (1.21.6)\n",
            "Requirement already satisfied: python-dateutil>=2.1 in /usr/local/lib/python3.7/dist-packages (from matplotlib>=2.2->seaborn) (2.8.2)\n",
            "Requirement already satisfied: pyparsing!=2.0.4,!=2.1.2,!=2.1.6,>=2.0.1 in /usr/local/lib/python3.7/dist-packages (from matplotlib>=2.2->seaborn) (3.0.9)\n",
            "Requirement already satisfied: kiwisolver>=1.0.1 in /usr/local/lib/python3.7/dist-packages (from matplotlib>=2.2->seaborn) (1.4.2)\n",
            "Requirement already satisfied: cycler>=0.10 in /usr/local/lib/python3.7/dist-packages (from matplotlib>=2.2->seaborn) (0.11.0)\n",
            "Requirement already satisfied: typing-extensions in /usr/local/lib/python3.7/dist-packages (from kiwisolver>=1.0.1->matplotlib>=2.2->seaborn) (4.2.0)\n",
            "Requirement already satisfied: pytz>=2017.3 in /usr/local/lib/python3.7/dist-packages (from pandas>=0.23->seaborn) (2022.1)\n",
            "Requirement already satisfied: six>=1.5 in /usr/local/lib/python3.7/dist-packages (from python-dateutil>=2.1->matplotlib>=2.2->seaborn) (1.15.0)\n"
          ]
        }
      ],
      "source": [
        "pip install seaborn"
      ]
    },
    {
      "cell_type": "code",
      "source": [
        "pip install geocoder"
      ],
      "metadata": {
        "colab": {
          "base_uri": "https://localhost:8080/"
        },
        "id": "jPsd3y2Qbe_4",
        "outputId": "d0049f06-4588-49f5-c2d2-d17f7446a064"
      },
      "execution_count": 4,
      "outputs": [
        {
          "output_type": "stream",
          "name": "stdout",
          "text": [
            "Looking in indexes: https://pypi.org/simple, https://us-python.pkg.dev/colab-wheels/public/simple/\n",
            "Collecting geocoder\n",
            "  Downloading geocoder-1.38.1-py2.py3-none-any.whl (98 kB)\n",
            "\u001b[K     |████████████████████████████████| 98 kB 3.3 MB/s \n",
            "\u001b[?25hRequirement already satisfied: requests in /usr/local/lib/python3.7/dist-packages (from geocoder) (2.23.0)\n",
            "Requirement already satisfied: click in /usr/local/lib/python3.7/dist-packages (from geocoder) (7.1.2)\n",
            "Collecting ratelim\n",
            "  Downloading ratelim-0.1.6-py2.py3-none-any.whl (4.0 kB)\n",
            "Requirement already satisfied: six in /usr/local/lib/python3.7/dist-packages (from geocoder) (1.15.0)\n",
            "Requirement already satisfied: future in /usr/local/lib/python3.7/dist-packages (from geocoder) (0.16.0)\n",
            "Requirement already satisfied: decorator in /usr/local/lib/python3.7/dist-packages (from ratelim->geocoder) (4.4.2)\n",
            "Requirement already satisfied: urllib3!=1.25.0,!=1.25.1,<1.26,>=1.21.1 in /usr/local/lib/python3.7/dist-packages (from requests->geocoder) (1.24.3)\n",
            "Requirement already satisfied: certifi>=2017.4.17 in /usr/local/lib/python3.7/dist-packages (from requests->geocoder) (2022.5.18.1)\n",
            "Requirement already satisfied: chardet<4,>=3.0.2 in /usr/local/lib/python3.7/dist-packages (from requests->geocoder) (3.0.4)\n",
            "Requirement already satisfied: idna<3,>=2.5 in /usr/local/lib/python3.7/dist-packages (from requests->geocoder) (2.10)\n",
            "Installing collected packages: ratelim, geocoder\n",
            "Successfully installed geocoder-1.38.1 ratelim-0.1.6\n"
          ]
        }
      ]
    },
    {
      "cell_type": "code",
      "source": [
        "import seaborn as sns\n",
        "import matplotlib.pyplot as pltmap\n",
        "import tweepy\n",
        "import os\n",
        "import json\n",
        "import sys\n",
        "import geocoder\n",
        "import pandas as pd\n",
        "\n",
        "tw_key = 'ZMWOLWof3Ien'\n",
        "tw_secret = 'CrJ061fhLkticfkXQY4Nl2MUtXkTXd'\n",
        "tw_access_token = '1499373100f1'\n",
        "tw_access_token_secret = '97mH720sQpf'\n",
        "auth = tweepy.OAuthHandler(tw_key, tw_secret)\n",
        "auth.set_access_token(tw_access_token, tw_access_token_secret)\n",
        "api = tweepy.API(auth)\n",
        "\n"
      ],
      "metadata": {
        "id": "CYBzPAYvbYPe"
      },
      "execution_count": 10,
      "outputs": []
    },
    {
      "cell_type": "code",
      "source": [
        "tweetsdict_={'name': [], 'tweet_volume':[]}\n",
        "if __name__ == \"__main__\":\n",
        "    trendsinUS = api.trends_place(id = 23424977) #US : 23424977\n",
        "    print(\"Trends in US are :\")\n",
        "    for value in trendsinUS:\n",
        "      for trendinUS in value['trends']:\n",
        "        tweetsdict_['name'].append(trendinUS['name'])\n",
        "        tweetsdict_['tweet_volume'].append(trendinUS['tweet_volume'])\n",
        "print(tweetsdict_)"
      ],
      "metadata": {
        "colab": {
          "base_uri": "https://localhost:8080/"
        },
        "id": "ylR5pF2xdUTP",
        "outputId": "f0245fe2-b415-4e5a-f237-3f73f21b4628"
      },
      "execution_count": 13,
      "outputs": [
        {
          "output_type": "stream",
          "name": "stdout",
          "text": [
            "Trends in US are :\n",
            "{'name': ['#WWERaw', '#AllAmerican', '#starlinkCampingWorld', 'Gerrit Cole', 'Riddle', '#blindguess', 'State Farm', '$SNAP', 'Pence', '#AddAWordRuinAMovie', 'Orange Julius', 'Woodbridge', 'Dwayne Haskins', 'Patrick Wisdom', 'Perdue', 'Max Kepler', 'Juneteenth', 'Whoopi', 'Morton, TX', 'Morgan Freeman', 'Kotaku', 'Tucker Davidson', 'Cirelli', 'Gudas', 'Sam Goody', 'Waldenbooks', 'Amex', 'Street Profits', 'Sami Zayn', 'Tyler Anderson', '8Ball', 'Game 4', 'liam payne', 'Zendaya', 'Stacey Abrams', 'Chris Owings', 'ALL RISE', 'Jamie Foxx', 'Kemp', 'RKBro', 'Tower Records', 'Aquaman', 'Torts', 'poulter', 'Thanks President Biden', 'Game Pass', 'Gosar', 'Joe Kelly', 'James Craig', 'Roman Quinn'], 'tweet_volume': [10542, None, None, None, None, None, 18443, None, 50778, None, None, None, None, None, 21699, None, 29931, None, None, 10901, 16641, None, None, None, None, None, None, None, None, None, None, 50487, 31086, 31082, 35930, None, 10393, None, 24818, None, None, 33453, None, 10826, None, 15817, None, None, None, None]}\n"
          ]
        }
      ]
    },
    {
      "cell_type": "code",
      "source": [
        "pltmap.show()\n",
        "dftweets = pd.DataFrame(tweetsdict_)\n",
        "dftweets.sort_values(by='tweet_volume', inplace=True, ascending= False)\n",
        "dftweets = dftweets.dropna()\n",
        "fake = pd.DataFrame({'cat': dftweets[\"tweet_volume\"], 'val': dftweets[\"name\"]})\n",
        "fig = sns.barplot(x = 'cat', y = 'val', data = fake, palette=\"Blues_d\", orient=\"h\" )\n",
        "fig.set(xlabel='Tweet Volume', ylabel='Tweets')"
      ],
      "metadata": {
        "colab": {
          "base_uri": "https://localhost:8080/",
          "height": 297
        },
        "id": "3apT49VGb6RY",
        "outputId": "02940d7e-e364-4061-fad6-de3f260cf226"
      },
      "execution_count": 14,
      "outputs": [
        {
          "output_type": "execute_result",
          "data": {
            "text/plain": [
              "[Text(0, 0.5, 'Tweets'), Text(0.5, 0, 'Tweet Volume')]"
            ]
          },
          "metadata": {},
          "execution_count": 14
        },
        {
          "output_type": "display_data",
          "data": {
            "text/plain": [
              "<Figure size 432x288 with 1 Axes>"
            ],
            "image/png": "[encoded data removed]"
          },
          "metadata": {
            "needs_background": "light"
          }
        }
      ]
    }
  ]
}