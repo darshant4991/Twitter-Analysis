{
  "nbformat": 4,
  "nbformat_minor": 0,
  "metadata": {
    "colab": {
      "name": "TweetsTimeSeriesAnalysis.ipynb",
      "provenance": []
    },
    "kernelspec": {
      "name": "python3",
      "display_name": "Python 3"
    },
    "language_info": {
      "name": "python"
    }
  },
  "cells": [
    {
      "cell_type": "code",
      "source": [
        "import os\n",
        "import tweepy as tw\n",
        "import pandas as pd\n",
        "tw_key = 'ZMWO'\n",
        "tw_secret = 'CrJ'\n",
        "tw_access_token = '1499373'\n",
        "tw_access_token_secret = '97mH7'\n",
        "auth = tw.OAuthHandler(tw_key, tw_secret)\n",
        "auth.set_access_token(tw_access_token, tw_access_token_secret)\n",
        "api = tw.API(auth, wait_on_rate_limit=True)\n",
        "search_words = \"Ministry of Truth\""
      ],
      "metadata": {
        "id": "u0jTgq78qEmS"
      },
      "execution_count": 1,
      "outputs": []
    },
    {
      "cell_type": "code",
      "source": [
        "tweets = tw.Cursor(api.search, q=search_words, lang=\"en\").items(1000)\n",
        "MOTTweets = [[tweet.id,tweet.user.screen_name, tweet.user.verified, tweet.text, tweet.place, tweet.user.location, tweet.source,tweet.created_at,tweet.retweet_count,tweet.favorite_count] \n",
        "             for tweet in tweets]\n",
        "MOTTweetsdf = pd.DataFrame(data=MOTTweets, columns=['id','user',\"verified\",\"text\",\"source\",\"place\",\"TweetSource\",\"created_at\",\"retweetCount\",\"Likes\"])"
      ],
      "metadata": {
        "id": "AhpjAcWZqHXf"
      },
      "execution_count": 2,
      "outputs": []
    },
    {
      "cell_type": "code",
      "execution_count": 3,
      "metadata": {
        "colab": {
          "base_uri": "https://localhost:8080/",
          "height": 206
        },
        "id": "UOT4CT9UqDJm",
        "outputId": "28399e08-ed76-4dbd-fd79-0cab33c2a713"
      },
      "outputs": [
        {
          "output_type": "execute_result",
          "data": {
            "text/plain": [
              "         date  retweetCount  \\\n",
              "0  2022-05-24            49   \n",
              "1  2022-05-24            17   \n",
              "2  2022-05-24           721   \n",
              "3  2022-05-24          1207   \n",
              "4  2022-05-24             0   \n",
              "\n",
              "                                                text tweettime  \n",
              "0  RT @jennycohn1: “Just hours after Jankowicz tw...  01:22:39  \n",
              "1  RT @SlowNewsDayShow: Patriot Act co-author, fo...  01:21:42  \n",
              "2  RT @RepMTG: Don’t worry everyone, when public ...  01:21:39  \n",
              "3  RT @thebradfordfile: LOL. Biden replaced the m...  01:21:11  \n",
              "4  @ChillGamerMac Judgement Day like said is the ...  01:20:48  "
            ],
            "text/html": [
              "\n",
              "  <div id=\"df-a5b5d8d8-60f6-4254-921c-41e6d16db29d\">\n",
              "    <div class=\"colab-df-container\">\n",
              "      <div>\n",
              "<style scoped>\n",
              "    .dataframe tbody tr th:only-of-type {\n",
              "        vertical-align: middle;\n",
              "    }\n",
              "\n",
              "    .dataframe tbody tr th {\n",
              "        vertical-align: top;\n",
              "    }\n",
              "\n",
              "    .dataframe thead th {\n",
              "        text-align: right;\n",
              "    }\n",
              "</style>\n",
              "<table border=\"1\" class=\"dataframe\">\n",
              "  <thead>\n",
              "    <tr style=\"text-align: right;\">\n",
              "      <th></th>\n",
              "      <th>date</th>\n",
              "      <th>retweetCount</th>\n",
              "      <th>text</th>\n",
              "      <th>tweettime</th>\n",
              "    </tr>\n",
              "  </thead>\n",
              "  <tbody>\n",
              "    <tr>\n",
              "      <th>0</th>\n",
              "      <td>2022-05-24</td>\n",
              "      <td>49</td>\n",
              "      <td>RT @jennycohn1: “Just hours after Jankowicz tw...</td>\n",
              "      <td>01:22:39</td>\n",
              "    </tr>\n",
              "    <tr>\n",
              "      <th>1</th>\n",
              "      <td>2022-05-24</td>\n",
              "      <td>17</td>\n",
              "      <td>RT @SlowNewsDayShow: Patriot Act co-author, fo...</td>\n",
              "      <td>01:21:42</td>\n",
              "    </tr>\n",
              "    <tr>\n",
              "      <th>2</th>\n",
              "      <td>2022-05-24</td>\n",
              "      <td>721</td>\n",
              "      <td>RT @RepMTG: Don’t worry everyone, when public ...</td>\n",
              "      <td>01:21:39</td>\n",
              "    </tr>\n",
              "    <tr>\n",
              "      <th>3</th>\n",
              "      <td>2022-05-24</td>\n",
              "      <td>1207</td>\n",
              "      <td>RT @thebradfordfile: LOL. Biden replaced the m...</td>\n",
              "      <td>01:21:11</td>\n",
              "    </tr>\n",
              "    <tr>\n",
              "      <th>4</th>\n",
              "      <td>2022-05-24</td>\n",
              "      <td>0</td>\n",
              "      <td>@ChillGamerMac Judgement Day like said is the ...</td>\n",
              "      <td>01:20:48</td>\n",
              "    </tr>\n",
              "  </tbody>\n",
              "</table>\n",
              "</div>\n",
              "      <button class=\"colab-df-convert\" onclick=\"convertToInteractive('df-a5b5d8d8-60f6-4254-921c-41e6d16db29d')\"\n",
              "              title=\"Convert this dataframe to an interactive table.\"\n",
              "              style=\"display:none;\">\n",
              "        \n",
              "  <svg xmlns=\"http://www.w3.org/2000/svg\" height=\"24px\"viewBox=\"0 0 24 24\"\n",
              "       width=\"24px\">\n",
              "    <path d=\"M0 0h24v24H0V0z\" fill=\"none\"/>\n",
              "    <path d=\"M18.56 5.44l.94 2.06.94-2.06 2.06-.94-2.06-.94-.94-2.06-.94 2.06-2.06.94zm-11 1L8.5 8.5l.94-2.06 2.06-.94-2.06-.94L8.5 2.5l-.94 2.06-2.06.94zm10 10l.94 2.06.94-2.06 2.06-.94-2.06-.94-.94-2.06-.94 2.06-2.06.94z\"/><path d=\"M17.41 7.96l-1.37-1.37c-.4-.4-.92-.59-1.43-.59-.52 0-1.04.2-1.43.59L10.3 9.45l-7.72 7.72c-.78.78-.78 2.05 0 2.83L4 21.41c.39.39.9.59 1.41.59.51 0 1.02-.2 1.41-.59l7.78-7.78 2.81-2.81c.8-.78.8-2.07 0-2.86zM5.41 20L4 18.59l7.72-7.72 1.47 1.35L5.41 20z\"/>\n",
              "  </svg>\n",
              "      </button>\n",
              "      \n",
              "  <style>\n",
              "    .colab-df-container {\n",
              "      display:flex;\n",
              "      flex-wrap:wrap;\n",
              "      gap: 12px;\n",
              "    }\n",
              "\n",
              "    .colab-df-convert {\n",
              "      background-color: #E8F0FE;\n",
              "      border: none;\n",
              "      border-radius: 50%;\n",
              "      cursor: pointer;\n",
              "      display: none;\n",
              "      fill: #1967D2;\n",
              "      height: 32px;\n",
              "      padding: 0 0 0 0;\n",
              "      width: 32px;\n",
              "    }\n",
              "\n",
              "    .colab-df-convert:hover {\n",
              "      background-color: #E2EBFA;\n",
              "      box-shadow: 0px 1px 2px rgba(60, 64, 67, 0.3), 0px 1px 3px 1px rgba(60, 64, 67, 0.15);\n",
              "      fill: #174EA6;\n",
              "    }\n",
              "\n",
              "    [theme=dark] .colab-df-convert {\n",
              "      background-color: #3B4455;\n",
              "      fill: #D2E3FC;\n",
              "    }\n",
              "\n",
              "    [theme=dark] .colab-df-convert:hover {\n",
              "      background-color: #434B5C;\n",
              "      box-shadow: 0px 1px 3px 1px rgba(0, 0, 0, 0.15);\n",
              "      filter: drop-shadow(0px 1px 2px rgba(0, 0, 0, 0.3));\n",
              "      fill: #FFFFFF;\n",
              "    }\n",
              "  </style>\n",
              "\n",
              "      <script>\n",
              "        const buttonEl =\n",
              "          document.querySelector('#df-a5b5d8d8-60f6-4254-921c-41e6d16db29d button.colab-df-convert');\n",
              "        buttonEl.style.display =\n",
              "          google.colab.kernel.accessAllowed ? 'block' : 'none';\n",
              "\n",
              "        async function convertToInteractive(key) {\n",
              "          const element = document.querySelector('#df-a5b5d8d8-60f6-4254-921c-41e6d16db29d');\n",
              "          const dataTable =\n",
              "            await google.colab.kernel.invokeFunction('convertToInteractive',\n",
              "                                                     [key], {});\n",
              "          if (!dataTable) return;\n",
              "\n",
              "          const docLinkHtml = 'Like what you see? Visit the ' +\n",
              "            '<a target=\"_blank\" href=https://colab.research.google.com/notebooks/data_table.ipynb>data table notebook</a>'\n",
              "            + ' to learn more about interactive tables.';\n",
              "          element.innerHTML = '';\n",
              "          dataTable['output_type'] = 'display_data';\n",
              "          await google.colab.output.renderOutput(dataTable, element);\n",
              "          const docLink = document.createElement('div');\n",
              "          docLink.innerHTML = docLinkHtml;\n",
              "          element.appendChild(docLink);\n",
              "        }\n",
              "      </script>\n",
              "    </div>\n",
              "  </div>\n",
              "  "
            ]
          },
          "metadata": {},
          "execution_count": 3
        }
      ],
      "source": [
        "import numpy as np\n",
        "from IPython.display import display\n",
        "import seaborn as sns\n",
        "get_ipython().run_line_magic('matplotlib', 'inline')\n",
        "MOTTweetsdf['date'] = pd.DatetimeIndex(MOTTweetsdf['created_at']).date\n",
        "MOTTweetsdf['hour'] = pd.DatetimeIndex(MOTTweetsdf['created_at']).hour\n",
        "MOTTweetsdf['minutes'] = pd.DatetimeIndex(MOTTweetsdf['created_at']).minute\n",
        "MOTTweetsdf['seconds'] = pd.DatetimeIndex(MOTTweetsdf['created_at']).second\n",
        "MOTTweetsdf['tweettime'] = pd.DatetimeIndex(MOTTweetsdf['created_at']).time\n",
        "MOTTweetsdf_filtered = MOTTweetsdf[['date', 'retweetCount','text','tweettime']]\n",
        "MOTTweetsdf_filtered.head(5)"
      ]
    },
    {
      "cell_type": "code",
      "source": [
        "retweet_max = np.max(MOTTweetsdf['retweetCount'])\n",
        "favourite_max = np.max(MOTTweetsdf['Likes'])\n",
        "favourite = MOTTweetsdf[MOTTweetsdf.Likes == favourite_max].index[0]\n",
        "retweet = MOTTweetsdf[MOTTweetsdf.retweetCount == retweet_max].index[0]\n",
        "print(\"Tweet with highest likes: \\n{}\".format(MOTTweetsdf['text'][favourite]))\n",
        "print(\"No of likes: {}\".format(favourite_max))\n",
        "print(\"Tweet with highest retweets: \\n{}\".format(MOTTweetsdf['text'][retweet]))\n",
        "print(\"No of retweets: {}\".format(retweet_max))"
      ],
      "metadata": {
        "colab": {
          "base_uri": "https://localhost:8080/"
        },
        "id": "ijnqS6ejqkUU",
        "outputId": "047d957d-7815-413a-af35-e01410729211"
      },
      "execution_count": 4,
      "outputs": [
        {
          "output_type": "stream",
          "name": "stdout",
          "text": [
            "Tweet with highest likes: \n",
            "Trump didn't cancel pipelines, didn't decrease oil leases, did not ask illegal aliens to come pouring in, isn't app… https://t.co/Ibxs1Hc1Sv\n",
            "No of likes: 188\n",
            "Tweet with highest retweets: \n",
            "RT @ErrolWebber: Adolf Hitler had a Ministry of Truth.\n",
            "\n",
            "Joseph Goebbels had a Ministry of Truth.\n",
            "\n",
            "Joseph Stalin had a Ministry of Truth.\n",
            "\n",
            "J…\n",
            "No of retweets: 38036\n"
          ]
        }
      ]
    },
    {
      "cell_type": "code",
      "source": [
        "timeret = pd.Series(data=MOTTweetsdf['retweetCount'].values, index=MOTTweetsdf['tweettime'])\n",
        "timefav = pd.Series(data=MOTTweetsdf['Likes'].values, index=MOTTweetsdf['tweettime'])\n",
        "timeret.plot(figsize=(16,4), label=\"Retweets\", legend=True)\n",
        "timefav.plot(figsize=(16,4), label=\"Likes\", legend=True)"
      ],
      "metadata": {
        "colab": {
          "base_uri": "https://localhost:8080/",
          "height": 297
        },
        "id": "cp2adCa1qr3M",
        "outputId": "23aa9d78-db3a-4ad7-f3f6-9f90a831cadc"
      },
      "execution_count": 6,
      "outputs": [
        {
          "output_type": "execute_result",
          "data": {
            "text/plain": [
              "<matplotlib.axes._subplots.AxesSubplot at 0x7f1f759d0a10>"
            ]
          },
          "metadata": {},
          "execution_count": 6
        },
        {
          "output_type": "display_data",
          "data": {
            "text/plain": [
              "<Figure size 1152x288 with 1 Axes>"
            ],
            "image/png": "[encoded data removed]"
          },
          "metadata": {
            "needs_background": "light"
          }
        }
      ]
    }
  ]
}